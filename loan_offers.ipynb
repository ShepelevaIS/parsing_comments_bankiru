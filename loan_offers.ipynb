{
 "cells": [
  {
   "cell_type": "code",
   "execution_count": 2,
   "metadata": {},
   "outputs": [],
   "source": [
    "import requests\n",
    "from bs4 import BeautifulSoup\n",
    "import re\n",
    "import os\n",
    "import pandas as pd\n",
    "import json\n",
    "import time\n",
    "import time\n",
    "import random\n",
    "import datetime"
   ]
  },
  {
   "cell_type": "code",
   "execution_count": 6,
   "metadata": {},
   "outputs": [],
   "source": [
    "def html_stripper(text):\n",
    "    return re.sub('<[^<]+?>', '', str(text)) "
   ]
  },
  {
   "cell_type": "markdown",
   "metadata": {},
   "source": [
    "### Предложения по потребительским кредитам"
   ]
  },
  {
   "cell_type": "code",
   "execution_count": 4,
   "metadata": {},
   "outputs": [],
   "source": [
    "page = 1\n",
    "main_url = 'https://www.banki.ru/products/credits/?source=submenu_credits'\n",
    "text_page = requests.get(main_url.format(page))\n",
    "comment_page = text_page.content\n",
    "comment_page = BeautifulSoup(comment_page, \"lxml\")"
   ]
  },
  {
   "cell_type": "code",
   "execution_count": 7,
   "metadata": {},
   "outputs": [],
   "source": [
    "titles = []\n",
    "for cont in comment_page.findAll('div', attrs = {'class':\"l3848bca4\"}):\n",
    "    title = re.split('No.',html_stripper(cont))\n",
    "    titles += title\n",
    "    \n",
    "rates = []\n",
    "for cont in comment_page.findAll('span', attrs = {'class':\"text-size-3 text-weight-bolder\"}):\n",
    "    rate = re.split('No.',html_stripper(cont))\n",
    "    rates += rate\n",
    "    \n",
    "bank_names = []\n",
    "# Названия банков\n",
    "for bank in comment_page.find_all(\"div\", {\"class\":\"grid-2019__col-sm-3 grid-2019__col-sm-align-center\"}):\n",
    "    bank_name = bank.find(\"img\")\n",
    "    if bank_name is not None:\n",
    "        bank_names+=[bank_name[\"title\"]]\n",
    "        \n",
    "bankiru_pl = pd.DataFrame({\"bank\": bank_names,\n",
    "                                 \"title\": titles,\n",
    "                                 \"rate\": rates})  "
   ]
  },
  {
   "cell_type": "code",
   "execution_count": 8,
   "metadata": {},
   "outputs": [
    {
     "data": {
      "text/html": [
       "<div>\n",
       "<style scoped>\n",
       "    .dataframe tbody tr th:only-of-type {\n",
       "        vertical-align: middle;\n",
       "    }\n",
       "\n",
       "    .dataframe tbody tr th {\n",
       "        vertical-align: top;\n",
       "    }\n",
       "\n",
       "    .dataframe thead th {\n",
       "        text-align: right;\n",
       "    }\n",
       "</style>\n",
       "<table border=\"1\" class=\"dataframe\">\n",
       "  <thead>\n",
       "    <tr style=\"text-align: right;\">\n",
       "      <th></th>\n",
       "      <th>bank</th>\n",
       "      <th>title</th>\n",
       "      <th>rate</th>\n",
       "    </tr>\n",
       "  </thead>\n",
       "  <tbody>\n",
       "    <tr>\n",
       "      <td>0</td>\n",
       "      <td>Газпромбанк</td>\n",
       "      <td>Наличными</td>\n",
       "      <td>7,20%</td>\n",
       "    </tr>\n",
       "    <tr>\n",
       "      <td>1</td>\n",
       "      <td>Газпромбанк</td>\n",
       "      <td>Рефинансирование</td>\n",
       "      <td>8,90%</td>\n",
       "    </tr>\n",
       "    <tr>\n",
       "      <td>2</td>\n",
       "      <td>Газпромбанк</td>\n",
       "      <td>Для военнослужащих</td>\n",
       "      <td>13,40%</td>\n",
       "    </tr>\n",
       "    <tr>\n",
       "      <td>3</td>\n",
       "      <td>Восточный Банк</td>\n",
       "      <td>Комфорт</td>\n",
       "      <td>9,00%</td>\n",
       "    </tr>\n",
       "    <tr>\n",
       "      <td>4</td>\n",
       "      <td>Восточный Банк</td>\n",
       "      <td>Большой комфорт</td>\n",
       "      <td>9,00%</td>\n",
       "    </tr>\n",
       "    <tr>\n",
       "      <td>...</td>\n",
       "      <td>...</td>\n",
       "      <td>...</td>\n",
       "      <td>...</td>\n",
       "    </tr>\n",
       "    <tr>\n",
       "      <td>70</td>\n",
       "      <td>Владбизнесбанк</td>\n",
       "      <td>Бюджетный</td>\n",
       "      <td>10,50%</td>\n",
       "    </tr>\n",
       "    <tr>\n",
       "      <td>71</td>\n",
       "      <td>Владбизнесбанк</td>\n",
       "      <td>Рефинансирование</td>\n",
       "      <td>13,00%</td>\n",
       "    </tr>\n",
       "    <tr>\n",
       "      <td>72</td>\n",
       "      <td>Владбизнесбанк</td>\n",
       "      <td>По двум документам</td>\n",
       "      <td>23,70%</td>\n",
       "    </tr>\n",
       "    <tr>\n",
       "      <td>73</td>\n",
       "      <td>РНКБ</td>\n",
       "      <td>Наличными</td>\n",
       "      <td>13,50%</td>\n",
       "    </tr>\n",
       "    <tr>\n",
       "      <td>74</td>\n",
       "      <td>РНКБ</td>\n",
       "      <td>Рефинансирование</td>\n",
       "      <td>13,90%</td>\n",
       "    </tr>\n",
       "  </tbody>\n",
       "</table>\n",
       "<p>75 rows × 3 columns</p>\n",
       "</div>"
      ],
      "text/plain": [
       "              bank               title    rate\n",
       "0      Газпромбанк           Наличными   7,20%\n",
       "1      Газпромбанк    Рефинансирование   8,90%\n",
       "2      Газпромбанк  Для военнослужащих  13,40%\n",
       "3   Восточный Банк             Комфорт   9,00%\n",
       "4   Восточный Банк     Большой комфорт   9,00%\n",
       "..             ...                 ...     ...\n",
       "70  Владбизнесбанк           Бюджетный  10,50%\n",
       "71  Владбизнесбанк    Рефинансирование  13,00%\n",
       "72  Владбизнесбанк  По двум документам  23,70%\n",
       "73            РНКБ           Наличными  13,50%\n",
       "74            РНКБ    Рефинансирование  13,90%\n",
       "\n",
       "[75 rows x 3 columns]"
      ]
     },
     "execution_count": 8,
     "metadata": {},
     "output_type": "execute_result"
    }
   ],
   "source": [
    "bankiru_pl"
   ]
  },
  {
   "cell_type": "code",
   "execution_count": 12,
   "metadata": {},
   "outputs": [],
   "source": [
    "from selenium import webdriver\n",
    "import selenium\n",
    "browser=webdriver.Chrome('C:/Users/s-ir/Documents/chrome_driver/chromedriver.exe')\n",
    "browser.get('https://www.banki.ru/products/credits/?source=submenu_credits')"
   ]
  },
  {
   "cell_type": "code",
   "execution_count": 13,
   "metadata": {},
   "outputs": [],
   "source": [
    "import time\n",
    "\n",
    "from selenium.webdriver.common.action_chains import ActionChains\n",
    "from selenium.webdriver.common.keys import Keys\n",
    "actions = ActionChains(browser)\n",
    "for _ in range(3):\n",
    "    actions.send_keys(Keys.PAGE_DOWN).perform()\n",
    "    time.sleep(1)"
   ]
  }
 ],
 "metadata": {
  "kernelspec": {
   "display_name": "Python 3",
   "language": "python",
   "name": "python3"
  },
  "language_info": {
   "codemirror_mode": {
    "name": "ipython",
    "version": 3
   },
   "file_extension": ".py",
   "mimetype": "text/x-python",
   "name": "python",
   "nbconvert_exporter": "python",
   "pygments_lexer": "ipython3",
   "version": "3.7.4"
  }
 },
 "nbformat": 4,
 "nbformat_minor": 2
}
